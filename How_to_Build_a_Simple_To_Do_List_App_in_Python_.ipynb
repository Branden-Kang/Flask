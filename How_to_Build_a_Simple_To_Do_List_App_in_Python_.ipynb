{
  "nbformat": 4,
  "nbformat_minor": 0,
  "metadata": {
    "colab": {
      "provenance": [],
      "authorship_tag": "ABX9TyOE9LTtGngMYgEy+l8mEvxW"
    },
    "kernelspec": {
      "name": "python3",
      "display_name": "Python 3"
    },
    "language_info": {
      "name": "python"
    }
  },
  "cells": [
    {
      "cell_type": "markdown",
      "source": [
        "[Reference](https://python.plainenglish.io/how-to-build-a-simple-to-do-list-app-in-python-5-minutes-b735558cdcda)"
      ],
      "metadata": {
        "id": "HgyIO5WpKkGa"
      }
    },
    {
      "cell_type": "markdown",
      "source": [
        "# Step 1: Set up a development environment\n",
        "- Python 3\n",
        "- A text editor or integrated development environment (IDE) of your choice\n",
        "- pip (Python package manager)"
      ],
      "metadata": {
        "id": "VSmTbwVmKmCw"
      }
    },
    {
      "cell_type": "markdown",
      "source": [
        "# Step 2: Create a new Flask project\n",
        "```\n",
        "$ mkdir todo-app\n",
        "$ cd todo-app\n",
        "\n",
        "$ python3 -m venv venv\n",
        "$ source venv/bin/activate\n",
        "$ pip install Flask\n",
        "```"
      ],
      "metadata": {
        "id": "xERl0Au7KqKI"
      }
    },
    {
      "cell_type": "code",
      "execution_count": 1,
      "metadata": {
        "id": "Ryj7AyHJKfBC"
      },
      "outputs": [],
      "source": [
        "from flask import Flask\n",
        "\n",
        "app = Flask(__name__)\n",
        "\n",
        "@app.route(\"/\")\n",
        "def index():\n",
        "    return \"Hello, World!\"\n",
        "\n",
        "if __name__ == \"__main__\":\n",
        "    app.run(debug=True)"
      ]
    },
    {
      "cell_type": "markdown",
      "source": [
        "# Step 3: Test the Flask app\n",
        "```\n",
        "$ export FLASK_APP=app.py\n",
        "$ flask run\n",
        "```"
      ],
      "metadata": {
        "id": "HtBFsLSzKwNt"
      }
    },
    {
      "cell_type": "markdown",
      "source": [
        "# Step 4: Create the to-do list backend\n",
        "```\n",
        "$ pip install flask-sqlalchemy\n",
        "```"
      ],
      "metadata": {
        "id": "b9HrSuIgKyj7"
      }
    },
    {
      "cell_type": "code",
      "source": [
        "from flask_sqlalchemy import SQLAlchemy\n",
        "\n",
        "app.config['SQLALCHEMY_DATABASE_URI'] = 'sqlite:///todo.db'\n",
        "db = SQLAlchemy(app)\n",
        "\n",
        "class Todo(db.Model):\n",
        "    id = db.Column(db.Integer, primary_key=True)\n",
        "    text = db.Column(db.String(200))\n",
        "    completed = db.Column(db.Boolean, default=False)"
      ],
      "metadata": {
        "id": "iEoXNaAwKvKP"
      },
      "execution_count": 2,
      "outputs": []
    },
    {
      "cell_type": "markdown",
      "source": [
        "# Step 5: Create the to-do list views and templates"
      ],
      "metadata": {
        "id": "B_KklnWtK57Y"
      }
    },
    {
      "cell_type": "code",
      "source": [
        "from flask import render_template, request\n",
        "\n",
        "@app.route(\"/todos/\")\n",
        "def todos():\n",
        "    todos = Todo.query.all()\n",
        "    return render_template(\"todos.html\", todos=todos)\n",
        "\n",
        "@app.route(\"/add/\", methods=[\"POST\"])\n",
        "def add():\n",
        "    text = request.form.get(\"text\")\n",
        "    todo = Todo(text=text)\n",
        "    db.session.add(todo)\n",
        "    db.session.commit()\n",
        "    return redirect(url_for(\"todos\"))\n",
        "\n",
        "@app.route(\"/complete/<int:todo_id>/\")\n",
        "def complete(todo_id):\n",
        "    todo = Todo.query.get(todo_id)\n",
        "    todo.completed = True\n",
        "    db.session.commit()\n",
        "    return redirect(url_for(\"todos\"))\n",
        "\n",
        "@app.route(\"/delete/<int:todo_id>/\")\n",
        "def delete(todo_id):\n",
        "    todo = Todo.query.get(todo_id)\n",
        "    db.session.delete(todo)\n",
        "    db.session.commit()\n",
        "    return redirect(url_for(\"todos\"))"
      ],
      "metadata": {
        "id": "oejLF40fK6G4"
      },
      "execution_count": 3,
      "outputs": []
    },
    {
      "cell_type": "markdown",
      "source": [
        "# Step 6: Create the to-do list template\n",
        "```\n",
        "<!DOCTYPE html>\n",
        "<html>\n",
        "  <head>\n",
        "    <meta charset=\"utf-8\">\n",
        "    <title>To-Do List</title>\n",
        "  </head>\n",
        "  <body>\n",
        "    <h1>To-Do List</h1>\n",
        "    <form action=\"{{ url_for('add') }}\" method=\"post\">\n",
        "      <input type=\"text\" name=\"text\">\n",
        "      <input type=\"submit\" value=\"Add\">\n",
        "    </form>\n",
        "    <ul>\n",
        "      {% for todo in todos %}\n",
        "        <li>\n",
        "          {{ todo.text }}\n",
        "          {% if todo.completed %}\n",
        "            (completed)\n",
        "          {% else %}\n",
        "            <a href=\"{{ url_for('complete', todo_id=todo.id) }}\">Mark as Complete</a>\n",
        "          {% endif %}\n",
        "          <a href=\"{{ url_for('delete', todo_id=todo.id) }}\">Delete</a>\n",
        "        </li>\n",
        "      {% endfor %}\n",
        "    </ul>\n",
        "  </body>\n",
        "</html>\n",
        "```"
      ],
      "metadata": {
        "id": "mYF9gBNYK_Im"
      }
    },
    {
      "cell_type": "markdown",
      "source": [
        "# Step 7: Create the database and run the app\n",
        "```\n",
        "$ flask shell\n",
        "\n",
        ">>> from app import db\n",
        ">>> db.create_all()\n",
        "\n",
        "$ flask run\n",
        "```"
      ],
      "metadata": {
        "id": "SKVfFSXLLKKl"
      }
    },
    {
      "cell_type": "markdown",
      "source": [
        "# Step 8: Test the to-do list app\n",
        "Test the to-do list app by adding items, marking them as complete, and deleting them."
      ],
      "metadata": {
        "id": "PtcgcZXpLP2Q"
      }
    }
  ]
}